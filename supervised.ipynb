{
 "cells": [
  {
   "cell_type": "code",
   "execution_count": 1,
   "metadata": {},
   "outputs": [],
   "source": [
    "import numpy as np\n",
    "from sklearn.pipeline import Pipeline\n",
    "from sklearn.feature_extraction.text import TfidfVectorizer\n",
    "import pandas as pd \n",
    "from transformers import BertTokenizer, BertModel\n",
    "import torch\n",
    "\n",
    "'''print(\"tensorflow importation\")\n",
    "import tensorflow as tf\n",
    "print(tf.__version__)'''\n",
    "#import tensorflow_text \n",
    "#print(tensorflow_text.__version__)\n",
    "#import tensorflow_hub as hub\n",
    "\n",
    "'''import keras\n",
    "print(keras.__version__)'''\n",
    "import mlflow\n",
    "import matplotlib.pyplot as plt\n",
    "import gensim\n",
    "from gensim.models import Word2Vec\n",
    "\n",
    "from sklearn.base import BaseEstimator, TransformerMixin\n",
    "\n",
    "from sklearn.manifold import TSNE\n",
    "import seaborn as sns\n",
    "from sentence_transformers import SentenceTransformer\n",
    "\n",
    "import time\n",
    "from sklearn.linear_model import LogisticRegression\n",
    "from sklearn.multiclass import OneVsRestClassifier\n",
    "from sklearn.metrics import accuracy_score, precision_score, recall_score, f1_score, classification_report, hamming_loss, jaccard_score\n",
    "\n"
   ]
  },
  {
   "cell_type": "code",
   "execution_count": 2,
   "metadata": {},
   "outputs": [
    {
     "data": {
      "text/html": [
       "<div>\n",
       "<style scoped>\n",
       "    .dataframe tbody tr th:only-of-type {\n",
       "        vertical-align: middle;\n",
       "    }\n",
       "\n",
       "    .dataframe tbody tr th {\n",
       "        vertical-align: top;\n",
       "    }\n",
       "\n",
       "    .dataframe thead th {\n",
       "        text-align: right;\n",
       "    }\n",
       "</style>\n",
       "<table border=\"1\" class=\"dataframe\">\n",
       "  <thead>\n",
       "    <tr style=\"text-align: right;\">\n",
       "      <th></th>\n",
       "      <th>Title</th>\n",
       "      <th>Body</th>\n",
       "      <th>Tags</th>\n",
       "      <th>Body_word_count</th>\n",
       "      <th>combined</th>\n",
       "    </tr>\n",
       "  </thead>\n",
       "  <tbody>\n",
       "    <tr>\n",
       "      <th>0</th>\n",
       "      <td>android jetpack navigation bottomnavigationvie...</td>\n",
       "      <td>android jetpack navigation bottomnavigationvie...</td>\n",
       "      <td>android android-architecture-components bottom...</td>\n",
       "      <td>131</td>\n",
       "      <td>android jetpack navigation bottomnavigationvie...</td>\n",
       "    </tr>\n",
       "    <tr>\n",
       "      <th>1</th>\n",
       "      <td>jetpack compose button drawable</td>\n",
       "      <td>achieve jetpack compose something button eleva...</td>\n",
       "      <td>android android-jetpack-compose android-compos...</td>\n",
       "      <td>60</td>\n",
       "      <td>jetpack compose button drawable achieve jetpac...</td>\n",
       "    </tr>\n",
       "    <tr>\n",
       "      <th>2</th>\n",
       "      <td>topappbar flash navigate compose navigation</td>\n",
       "      <td>screen scaffold topappbar navigate jetpack nav...</td>\n",
       "      <td>android android-jetpack android-jetpack-compos...</td>\n",
       "      <td>198</td>\n",
       "      <td>topappbar flash navigate compose navigation sc...</td>\n",
       "    </tr>\n",
       "    <tr>\n",
       "      <th>3</th>\n",
       "      <td>how create recycler view compose jetpack</td>\n",
       "      <td>special way create recyclerview compose jetpac...</td>\n",
       "      <td>android android-recyclerview android-jetpack-c...</td>\n",
       "      <td>7</td>\n",
       "      <td>how create recycler view compose jetpack speci...</td>\n",
       "    </tr>\n",
       "    <tr>\n",
       "      <th>4</th>\n",
       "      <td>how navhostfragment</td>\n",
       "      <td>integrate android navigation architecture comp...</td>\n",
       "      <td>android android-fragments android-architecture...</td>\n",
       "      <td>48</td>\n",
       "      <td>how navhostfragment integrate android navigati...</td>\n",
       "    </tr>\n",
       "    <tr>\n",
       "      <th>...</th>\n",
       "      <td>...</td>\n",
       "      <td>...</td>\n",
       "      <td>...</td>\n",
       "      <td>...</td>\n",
       "      <td>...</td>\n",
       "    </tr>\n",
       "    <tr>\n",
       "      <th>33574</th>\n",
       "      <td>spring rest json can handle managedback refere...</td>\n",
       "      <td>post httplocalhosttranslators angularjs fronte...</td>\n",
       "      <td>java json hibernate jackson spring-boot</td>\n",
       "      <td>273</td>\n",
       "      <td>spring rest json can handle managedback refere...</td>\n",
       "    </tr>\n",
       "    <tr>\n",
       "      <th>33575</th>\n",
       "      <td>disableenable submit button form fill</td>\n",
       "      <td>form submit button disabledenabled depend form...</td>\n",
       "      <td>javascript forms submit disabled-control</td>\n",
       "      <td>56</td>\n",
       "      <td>disableenable submit button form fill form sub...</td>\n",
       "    </tr>\n",
       "    <tr>\n",
       "      <th>33576</th>\n",
       "      <td>how keep net console app run</td>\n",
       "      <td>consider console application start service sep...</td>\n",
       "      <td>c# multithreading sleep manualresetevent</td>\n",
       "      <td>53</td>\n",
       "      <td>how keep net console app run consider console ...</td>\n",
       "    </tr>\n",
       "    <tr>\n",
       "      <th>33577</th>\n",
       "      <td>how avoid javalangnoclassdeffounderror</td>\n",
       "      <td>code add text exist doc file itll save another...</td>\n",
       "      <td>java apache-poi noclassdeffounderror doc</td>\n",
       "      <td>165</td>\n",
       "      <td>how avoid javalangnoclassdeffounderror code ad...</td>\n",
       "    </tr>\n",
       "    <tr>\n",
       "      <th>33578</th>\n",
       "      <td>jetty throw noclassdeffounderror orgeclipsejet...</td>\n",
       "      <td>maven build throw end build shutdown jetty noc...</td>\n",
       "      <td>java jetty noclassdeffounderror shutdown</td>\n",
       "      <td>290</td>\n",
       "      <td>jetty throw noclassdeffounderror orgeclipsejet...</td>\n",
       "    </tr>\n",
       "  </tbody>\n",
       "</table>\n",
       "<p>33579 rows × 5 columns</p>\n",
       "</div>"
      ],
      "text/plain": [
       "                                                   Title  \\\n",
       "0      android jetpack navigation bottomnavigationvie...   \n",
       "1                        jetpack compose button drawable   \n",
       "2            topappbar flash navigate compose navigation   \n",
       "3               how create recycler view compose jetpack   \n",
       "4                                    how navhostfragment   \n",
       "...                                                  ...   \n",
       "33574  spring rest json can handle managedback refere...   \n",
       "33575              disableenable submit button form fill   \n",
       "33576                       how keep net console app run   \n",
       "33577             how avoid javalangnoclassdeffounderror   \n",
       "33578  jetty throw noclassdeffounderror orgeclipsejet...   \n",
       "\n",
       "                                                    Body  \\\n",
       "0      android jetpack navigation bottomnavigationvie...   \n",
       "1      achieve jetpack compose something button eleva...   \n",
       "2      screen scaffold topappbar navigate jetpack nav...   \n",
       "3      special way create recyclerview compose jetpac...   \n",
       "4      integrate android navigation architecture comp...   \n",
       "...                                                  ...   \n",
       "33574  post httplocalhosttranslators angularjs fronte...   \n",
       "33575  form submit button disabledenabled depend form...   \n",
       "33576  consider console application start service sep...   \n",
       "33577  code add text exist doc file itll save another...   \n",
       "33578  maven build throw end build shutdown jetty noc...   \n",
       "\n",
       "                                                    Tags  Body_word_count  \\\n",
       "0      android android-architecture-components bottom...              131   \n",
       "1      android android-jetpack-compose android-compos...               60   \n",
       "2      android android-jetpack android-jetpack-compos...              198   \n",
       "3      android android-recyclerview android-jetpack-c...                7   \n",
       "4      android android-fragments android-architecture...               48   \n",
       "...                                                  ...              ...   \n",
       "33574            java json hibernate jackson spring-boot              273   \n",
       "33575           javascript forms submit disabled-control               56   \n",
       "33576           c# multithreading sleep manualresetevent               53   \n",
       "33577           java apache-poi noclassdeffounderror doc              165   \n",
       "33578           java jetty noclassdeffounderror shutdown              290   \n",
       "\n",
       "                                                combined  \n",
       "0      android jetpack navigation bottomnavigationvie...  \n",
       "1      jetpack compose button drawable achieve jetpac...  \n",
       "2      topappbar flash navigate compose navigation sc...  \n",
       "3      how create recycler view compose jetpack speci...  \n",
       "4      how navhostfragment integrate android navigati...  \n",
       "...                                                  ...  \n",
       "33574  spring rest json can handle managedback refere...  \n",
       "33575  disableenable submit button form fill form sub...  \n",
       "33576  how keep net console app run consider console ...  \n",
       "33577  how avoid javalangnoclassdeffounderror code ad...  \n",
       "33578  jetty throw noclassdeffounderror orgeclipsejet...  \n",
       "\n",
       "[33579 rows x 5 columns]"
      ]
     },
     "metadata": {},
     "output_type": "display_data"
    }
   ],
   "source": [
    "data = pd.read_csv('Data/df_tags_filtered.csv')\n",
    "data['combined'] = data['Title'] + \" \" + data['Body']\n",
    "\n",
    "display(data)"
   ]
  },
  {
   "cell_type": "code",
   "execution_count": 3,
   "metadata": {},
   "outputs": [
    {
     "data": {
      "text/html": [
       "<div>\n",
       "<style scoped>\n",
       "    .dataframe tbody tr th:only-of-type {\n",
       "        vertical-align: middle;\n",
       "    }\n",
       "\n",
       "    .dataframe tbody tr th {\n",
       "        vertical-align: top;\n",
       "    }\n",
       "\n",
       "    .dataframe thead th {\n",
       "        text-align: right;\n",
       "    }\n",
       "</style>\n",
       "<table border=\"1\" class=\"dataframe\">\n",
       "  <thead>\n",
       "    <tr style=\"text-align: right;\">\n",
       "      <th></th>\n",
       "      <th>Title</th>\n",
       "      <th>Body</th>\n",
       "      <th>Tags</th>\n",
       "      <th>Body_word_count</th>\n",
       "      <th>combined</th>\n",
       "    </tr>\n",
       "  </thead>\n",
       "  <tbody>\n",
       "    <tr>\n",
       "      <th>0</th>\n",
       "      <td>[android, jetpack, navigation, bottomnavigatio...</td>\n",
       "      <td>[android, jetpack, navigation, bottomnavigatio...</td>\n",
       "      <td>[android, android-architecture-components, bot...</td>\n",
       "      <td>131</td>\n",
       "      <td>android jetpack navigation bottomnavigationvie...</td>\n",
       "    </tr>\n",
       "    <tr>\n",
       "      <th>1</th>\n",
       "      <td>[jetpack, compose, button, drawable]</td>\n",
       "      <td>[achieve, jetpack, compose, something, button,...</td>\n",
       "      <td>[android, android-jetpack-compose, android-com...</td>\n",
       "      <td>60</td>\n",
       "      <td>jetpack compose button drawable achieve jetpac...</td>\n",
       "    </tr>\n",
       "    <tr>\n",
       "      <th>2</th>\n",
       "      <td>[topappbar, flash, navigate, compose, navigation]</td>\n",
       "      <td>[screen, scaffold, topappbar, navigate, jetpac...</td>\n",
       "      <td>[android, android-jetpack, android-jetpack-com...</td>\n",
       "      <td>198</td>\n",
       "      <td>topappbar flash navigate compose navigation sc...</td>\n",
       "    </tr>\n",
       "    <tr>\n",
       "      <th>3</th>\n",
       "      <td>[how, create, recycler, view, compose, jetpack]</td>\n",
       "      <td>[special, way, create, recyclerview, compose, ...</td>\n",
       "      <td>[android, android-recyclerview, android-jetpac...</td>\n",
       "      <td>7</td>\n",
       "      <td>how create recycler view compose jetpack speci...</td>\n",
       "    </tr>\n",
       "    <tr>\n",
       "      <th>4</th>\n",
       "      <td>[how, navhostfragment]</td>\n",
       "      <td>[integrate, android, navigation, architecture,...</td>\n",
       "      <td>[android, android-fragments, android-architect...</td>\n",
       "      <td>48</td>\n",
       "      <td>how navhostfragment integrate android navigati...</td>\n",
       "    </tr>\n",
       "    <tr>\n",
       "      <th>...</th>\n",
       "      <td>...</td>\n",
       "      <td>...</td>\n",
       "      <td>...</td>\n",
       "      <td>...</td>\n",
       "      <td>...</td>\n",
       "    </tr>\n",
       "    <tr>\n",
       "      <th>33574</th>\n",
       "      <td>[spring, rest, json, can, handle, managedback,...</td>\n",
       "      <td>[post, httplocalhosttranslators, angularjs, fr...</td>\n",
       "      <td>[java, json, hibernate, jackson, spring-boot]</td>\n",
       "      <td>273</td>\n",
       "      <td>spring rest json can handle managedback refere...</td>\n",
       "    </tr>\n",
       "    <tr>\n",
       "      <th>33575</th>\n",
       "      <td>[disableenable, submit, button, form, fill]</td>\n",
       "      <td>[form, submit, button, disabledenabled, depend...</td>\n",
       "      <td>[javascript, forms, submit, disabled-control]</td>\n",
       "      <td>56</td>\n",
       "      <td>disableenable submit button form fill form sub...</td>\n",
       "    </tr>\n",
       "    <tr>\n",
       "      <th>33576</th>\n",
       "      <td>[how, keep, net, console, app, run]</td>\n",
       "      <td>[consider, console, application, start, servic...</td>\n",
       "      <td>[c#, multithreading, sleep, manualresetevent]</td>\n",
       "      <td>53</td>\n",
       "      <td>how keep net console app run consider console ...</td>\n",
       "    </tr>\n",
       "    <tr>\n",
       "      <th>33577</th>\n",
       "      <td>[how, avoid, javalangnoclassdeffounderror]</td>\n",
       "      <td>[code, add, text, exist, doc, file, itll, save...</td>\n",
       "      <td>[java, apache-poi, noclassdeffounderror, doc]</td>\n",
       "      <td>165</td>\n",
       "      <td>how avoid javalangnoclassdeffounderror code ad...</td>\n",
       "    </tr>\n",
       "    <tr>\n",
       "      <th>33578</th>\n",
       "      <td>[jetty, throw, noclassdeffounderror, orgeclips...</td>\n",
       "      <td>[maven, build, throw, end, build, shutdown, je...</td>\n",
       "      <td>[java, jetty, noclassdeffounderror, shutdown]</td>\n",
       "      <td>290</td>\n",
       "      <td>jetty throw noclassdeffounderror orgeclipsejet...</td>\n",
       "    </tr>\n",
       "  </tbody>\n",
       "</table>\n",
       "<p>33579 rows × 5 columns</p>\n",
       "</div>"
      ],
      "text/plain": [
       "                                                   Title  \\\n",
       "0      [android, jetpack, navigation, bottomnavigatio...   \n",
       "1                   [jetpack, compose, button, drawable]   \n",
       "2      [topappbar, flash, navigate, compose, navigation]   \n",
       "3        [how, create, recycler, view, compose, jetpack]   \n",
       "4                                 [how, navhostfragment]   \n",
       "...                                                  ...   \n",
       "33574  [spring, rest, json, can, handle, managedback,...   \n",
       "33575        [disableenable, submit, button, form, fill]   \n",
       "33576                [how, keep, net, console, app, run]   \n",
       "33577         [how, avoid, javalangnoclassdeffounderror]   \n",
       "33578  [jetty, throw, noclassdeffounderror, orgeclips...   \n",
       "\n",
       "                                                    Body  \\\n",
       "0      [android, jetpack, navigation, bottomnavigatio...   \n",
       "1      [achieve, jetpack, compose, something, button,...   \n",
       "2      [screen, scaffold, topappbar, navigate, jetpac...   \n",
       "3      [special, way, create, recyclerview, compose, ...   \n",
       "4      [integrate, android, navigation, architecture,...   \n",
       "...                                                  ...   \n",
       "33574  [post, httplocalhosttranslators, angularjs, fr...   \n",
       "33575  [form, submit, button, disabledenabled, depend...   \n",
       "33576  [consider, console, application, start, servic...   \n",
       "33577  [code, add, text, exist, doc, file, itll, save...   \n",
       "33578  [maven, build, throw, end, build, shutdown, je...   \n",
       "\n",
       "                                                    Tags  Body_word_count  \\\n",
       "0      [android, android-architecture-components, bot...              131   \n",
       "1      [android, android-jetpack-compose, android-com...               60   \n",
       "2      [android, android-jetpack, android-jetpack-com...              198   \n",
       "3      [android, android-recyclerview, android-jetpac...                7   \n",
       "4      [android, android-fragments, android-architect...               48   \n",
       "...                                                  ...              ...   \n",
       "33574      [java, json, hibernate, jackson, spring-boot]              273   \n",
       "33575      [javascript, forms, submit, disabled-control]               56   \n",
       "33576      [c#, multithreading, sleep, manualresetevent]               53   \n",
       "33577      [java, apache-poi, noclassdeffounderror, doc]              165   \n",
       "33578      [java, jetty, noclassdeffounderror, shutdown]              290   \n",
       "\n",
       "                                                combined  \n",
       "0      android jetpack navigation bottomnavigationvie...  \n",
       "1      jetpack compose button drawable achieve jetpac...  \n",
       "2      topappbar flash navigate compose navigation sc...  \n",
       "3      how create recycler view compose jetpack speci...  \n",
       "4      how navhostfragment integrate android navigati...  \n",
       "...                                                  ...  \n",
       "33574  spring rest json can handle managedback refere...  \n",
       "33575  disableenable submit button form fill form sub...  \n",
       "33576  how keep net console app run consider console ...  \n",
       "33577  how avoid javalangnoclassdeffounderror code ad...  \n",
       "33578  jetty throw noclassdeffounderror orgeclipsejet...  \n",
       "\n",
       "[33579 rows x 5 columns]"
      ]
     },
     "metadata": {},
     "output_type": "display_data"
    }
   ],
   "source": [
    "def words_tokenize(text):\n",
    "  text = text.split()\n",
    "  return text\n",
    "\n",
    "data['Body'] = data.Body.apply(lambda text: words_tokenize(text))\n",
    "data['Title'] = data.Title.apply(lambda text: words_tokenize(text))\n",
    "data['Tags'] = data.Tags.apply(lambda text: words_tokenize(text))\n",
    "display(data)"
   ]
  },
  {
   "cell_type": "code",
   "execution_count": 4,
   "metadata": {},
   "outputs": [
    {
     "data": {
      "text/plain": [
       "0        [android, android-architecture-components, bot...\n",
       "1        [android, android-jetpack-compose, android-com...\n",
       "2        [android, android-jetpack, android-jetpack-com...\n",
       "3        [android, android-recyclerview, android-jetpac...\n",
       "4        [android, android-fragments, android-architect...\n",
       "                               ...                        \n",
       "33574        [java, json, hibernate, jackson, spring-boot]\n",
       "33575        [javascript, forms, submit, disabled-control]\n",
       "33576        [c#, multithreading, sleep, manualresetevent]\n",
       "33577        [java, apache-poi, noclassdeffounderror, doc]\n",
       "33578        [java, jetty, noclassdeffounderror, shutdown]\n",
       "Name: Tags, Length: 33579, dtype: object"
      ]
     },
     "metadata": {},
     "output_type": "display_data"
    },
    {
     "data": {
      "text/plain": [
       "0        [android, jetpack, navigation, bottomnavigatio...\n",
       "1        [jetpack, compose, button, drawable, achieve, ...\n",
       "2        [topappbar, flash, navigate, compose, navigati...\n",
       "3        [how, create, recycler, view, compose, jetpack...\n",
       "4        [how, navhostfragment, integrate, android, nav...\n",
       "                               ...                        \n",
       "33574    [spring, rest, json, can, handle, managedback,...\n",
       "33575    [disableenable, submit, button, form, fill, di...\n",
       "33576    [how, keep, net, console, app, run, consider, ...\n",
       "33577    [how, avoid, javalangnoclassdeffounderror, cod...\n",
       "33578    [jetty, throw, noclassdeffounderror, orgeclips...\n",
       "Name: Merged, Length: 33579, dtype: object"
      ]
     },
     "metadata": {},
     "output_type": "display_data"
    },
    {
     "data": {
      "text/plain": [
       "(26863,)"
      ]
     },
     "metadata": {},
     "output_type": "display_data"
    },
    {
     "data": {
      "text/plain": [
       "(6716,)"
      ]
     },
     "metadata": {},
     "output_type": "display_data"
    }
   ],
   "source": [
    "X = data[['Title','Body']]\n",
    "y = data['Tags']\n",
    "X_test = pd.read_csv(\"Data/X_test.csv\")\n",
    "y_test = pd.read_csv(\"Data/y_test.csv\")\n",
    "display(y)\n",
    "\n",
    "from sklearn.model_selection import train_test_split\n",
    "df = pd.DataFrame(data)\n",
    "def merge_and_keep_first_occurrence(row):\n",
    "    merged = row['Title'] + row['Body']\n",
    "    return list(dict.fromkeys(merged))\n",
    "# Appliquer la fonction à chaque ligne du DataFrame\n",
    "df['Merged'] = data.apply(merge_and_keep_first_occurrence, axis=1)\n",
    "\n",
    "X = df['Merged']\n",
    "display(X)\n",
    "\n",
    "X_train, X_test, y_train, y_test = train_test_split(X,y,\n",
    "    test_size=0.2,\n",
    "    random_state=42\n",
    ")\n",
    "\n",
    "\n",
    "display(X_train.shape, X_test.shape)\n",
    "X_train_sample = X_train.sample(8000, random_state=42)\n",
    "y_train_sample = y_train.loc[X_train_sample.index]\n",
    "X_test_sample = X_test.sample(100, random_state=42)\n",
    "y_test_sample = y_test.loc[X_test_sample.index]"
   ]
  },
  {
   "cell_type": "code",
   "execution_count": 5,
   "metadata": {},
   "outputs": [
    {
     "name": "stdout",
     "output_type": "stream",
     "text": [
      "10229    [javascript, jquery, inheritance, prototypal-i...\n",
      "4932     [javascript, asp.net-mvc, json, asp.net-mvc-4,...\n",
      "6712     [python, django, google-app-engine, web-applic...\n",
      "29503      [javascript, html, angularjs, validation, grid]\n",
      "3643     [android, android-widget, android-5.0-lollipop...\n",
      "                               ...                        \n",
      "1889     [javascript, reactjs, client-side, react-route...\n",
      "5621     [sql-server, sql-server-2005, database-design,...\n",
      "31108       [java, drawing, graphviz, graph-visualization]\n",
      "9165     [sql, sql-server-2008, excel, copy-paste, sql-...\n",
      "8178     [javascript, jquery, ecmascript-6, browserify,...\n",
      "Name: Tags, Length: 100, dtype: object\n"
     ]
    }
   ],
   "source": [
    "print(y_test_sample)"
   ]
  },
  {
   "cell_type": "markdown",
   "metadata": {},
   "source": [
    "## Pipeline vectorisation"
   ]
  },
  {
   "cell_type": "code",
   "execution_count": 7,
   "metadata": {},
   "outputs": [],
   "source": [
    "\n",
    "\n",
    "    \n",
    "class CustomTfidfVectorizer(BaseEstimator, TransformerMixin):\n",
    "    def __init__(self, min_df=0.008, max_df=0.9, ngram_range=(1, 1), norm='l2', use_idf=True, stop_words='english'):\n",
    "        self.min_df = min_df\n",
    "        self.max_df = max_df\n",
    "        self.ngram_range = ngram_range\n",
    "        self.norm = norm\n",
    "        self.use_idf = use_idf\n",
    "        self.stop_words = stop_words\n",
    "        self.vectorizer = TfidfVectorizer(min_df=self.min_df, max_df=self.max_df,\n",
    "                                          ngram_range=self.ngram_range, norm=self.norm,\n",
    "                                          use_idf=self.use_idf, stop_words=self.stop_words)\n",
    "\n",
    "    def fit(self, X, y=None):\n",
    "        self.vectorizer.fit(X)\n",
    "        return self\n",
    "\n",
    "    def transform(self, X, y=None):\n",
    "        return self.vectorizer.transform(X)\n",
    "    \n",
    "\n",
    "\n",
    "from sklearn.ensemble import RandomForestClassifier\n",
    "from sklearn.preprocessing import MultiLabelBinarizer\n",
    "\n",
    "class CustomWord2VecVectorizer(BaseEstimator, TransformerMixin):\n",
    "    def __init__(self, vector_size=400, window=8, min_count=6,alpha=0.025, epochs=5,workers=5, sg=0, max_vocab_size=None):\n",
    "        self.vector_size = vector_size\n",
    "        self.window = window\n",
    "        self.min_count = min_count\n",
    "        self.alpha = alpha\n",
    "        self.epochs = epochs\n",
    "        self.workers = workers\n",
    "        self.sg = sg\n",
    "        self.max_vocab_size = max_vocab_size\n",
    "        self.model = Word2Vec(\n",
    "            vector_size=self.vector_size, \n",
    "            window=self.window, \n",
    "            workers=self.workers, \n",
    "            sg=self.sg\n",
    "        )\n",
    "    def fit(self, X, y=None):\n",
    "        self.model = Word2Vec(\n",
    "            vector_size=self.vector_size, \n",
    "            window=self.window, \n",
    "            min_count=self.min_count,\n",
    "            alpha=self.alpha,\n",
    "            workers=self.workers,\n",
    "            sg=self.sg,\n",
    "            max_vocab_size=self.max_vocab_size\n",
    "        )\n",
    "        self.model.build_vocab(X)\n",
    "        return self\n",
    "\n",
    "    def transform(self, X, y=None):\n",
    "        # Moyenne des vecteurs de mots pour chaque document\n",
    "        return np.array([np.mean([self.model.wv[w] for w in words if w in self.model.wv]\n",
    "                                 or [np.zeros(self.model.vector_size)], axis=0)\n",
    "                         for words in X])\n",
    "\n",
    "\n",
    "\n",
    "\n",
    "class CustomBERTVectorizer(BaseEstimator, TransformerMixin):\n",
    "    def __init__(self, max_length=128):\n",
    "        self.tokenizer = BertTokenizer.from_pretrained('bert-base-uncased')\n",
    "        self.model = BertModel.from_pretrained('bert-base-uncased')\n",
    "        self.max_length = max_length\n",
    "\n",
    "    def fit(self, X, y=None):\n",
    "        return self\n",
    "\n",
    "    def transform(self, X, y=None):\n",
    "        # Tokenization\n",
    "        inputs = self.tokenizer(X, padding=True, truncation=True, max_length=self.max_length, return_tensors=\"pt\")\n",
    "        \n",
    "        # Passer les inputs à travers BERT\n",
    "        with torch.no_grad():\n",
    "            outputs = self.model(**inputs)\n",
    "        \n",
    "        # Récupérer la représentation des tokens CLS (premier token)\n",
    "        embeddings = outputs.last_hidden_state[:, 0, :].numpy()\n",
    "        \n",
    "        return embeddings\n",
    "\n",
    "\n",
    "\n",
    "class SentenceTransformerVectorizer(BaseEstimator, TransformerMixin):\n",
    "    def __init__(self, model_name='all-MiniLM-L6-v2'):\n",
    "        self.model = SentenceTransformer(model_name)\n",
    "\n",
    "    def fit(self, X, y=None):\n",
    "        return self\n",
    "\n",
    "    def transform(self, X):\n",
    "        return self.model.encode(X)\n",
    "    \n",
    "\n",
    "def create_tfidf_pipeline():\n",
    "    pipeline_tfidf = Pipeline([\n",
    "        \n",
    "        (\"tfidf\", TfidfVectorizer(min_df=0.007, max_df=0.9, ngram_range=(1, 1), stop_words='english')),\n",
    "        #('mlb', MultiLabelBinarizer()),\n",
    "        (\"clf\", OneVsRestClassifier(LogisticRegression())),\n",
    "        #(\"RandomForest\", RandomForestClassifier(n_estimators=100, random_state=42))\n",
    "    ])\n",
    "    return pipeline_tfidf\n",
    "\n",
    "def create_word2vec_pipeline():\n",
    "    pipeline_word2vec = Pipeline([\n",
    "        (\"word2vec\", CustomWord2VecVectorizer()),\n",
    "        (\"clf_w2v\", OneVsRestClassifier(LogisticRegression())),\n",
    "\n",
    "    ])\n",
    "    return pipeline_word2vec\n",
    "\n",
    "def create_bert_pipeline():\n",
    "    pipeline_bert = Pipeline([\n",
    "        (\"bert_vectorizer\", CustomBERTVectorizer()),\n",
    "        (\"clf_bert\", OneVsRestClassifier(LogisticRegression(max_iter=1000)))\n",
    "    ])\n",
    "    return pipeline_bert\n",
    "\n",
    "def create_use_pipeline():\n",
    "    pipeline_use = Pipeline([\n",
    "        (\"use_vectorizer\", SentenceTransformerVectorizer()),\n",
    "        (\"clf_use\", OneVsRestClassifier(LogisticRegression(max_iter=1000, C=1)))\n",
    "    ])\n",
    "    return pipeline_use\n",
    "\n"
   ]
  },
  {
   "cell_type": "code",
   "execution_count": 8,
   "metadata": {},
   "outputs": [],
   "source": [
    "def stocker_results(name = str, precision_test=None, jaccard_test=None, fit_time=None, transform_time=None):\n",
    "    # Enregistrer les résultats dans un DataFrame\n",
    "    results = pd.DataFrame({'Vectorizer': [name], 'precision Test': [precision_test], 'Jaccard Test': [jaccard_test], 'Fit Time': [fit_time]})\n",
    "    display(results)\n",
    "    return results"
   ]
  },
  {
   "cell_type": "code",
   "execution_count": 9,
   "metadata": {},
   "outputs": [
    {
     "name": "stdout",
     "output_type": "stream",
     "text": [
      "342      [android, user-interface, android-support-libr...\n",
      "11837    [c#, asp.net-mvc, linq, entity-framework, asp....\n",
      "31584       [java, collections, null, java-8, java-stream]\n",
      "14632    [javascript, jquery, script-tag, javascript-in...\n",
      "24015    [css, svg, reactjs, material-design, material-ui]\n",
      "19968    [c#, asp.net, google-chrome, listbox, autopost...\n",
      "8458     [c#, visual-studio, visual-studio-2013, intell...\n",
      "20386    [ios, xcode, label, nsattributedstring, center...\n",
      "15009    [sql, sql-server, sql-server-2008, stored-proc...\n",
      "10601    [c#, winforms, datagridview, datatable, backgr...\n",
      "Name: Tags, dtype: object\n"
     ]
    }
   ],
   "source": [
    "print(y_train_sample[:10])"
   ]
  },
  {
   "cell_type": "code",
   "execution_count": 10,
   "metadata": {},
   "outputs": [
    {
     "name": "stderr",
     "output_type": "stream",
     "text": [
      "/Users/bahia/opt/anaconda3/lib/python3.9/site-packages/sklearn/preprocessing/_label.py:900: UserWarning: unknown class(es) ['android-cursor', 'application-pool', 'browserify', 'c#-2.0', 'client-side-scripting', 'cobertura', 'convenience-methods', 'custom-errors', 'drawing', 'e2e-testing', 'eclipse-pde', 'filesystemobject', 'fullcalendar-3', 'gesture-recognition', 'google-api-objc-client', 'graph-visualization', 'heredoc', 'icloneable', 'insertafter', 'kafka-consumer-api', 'kafka-python', 'latex', 'messagebox', 'micrometer-tracing', 'moss', 'project-server', 'shared-objects', 'street-address', 'system-shutdown', 'tipfy', 'web-parts', 'xmlexception', 'zipkin'] will be ignored\n",
      "  warnings.warn(\n"
     ]
    }
   ],
   "source": [
    "mlb = MultiLabelBinarizer()\n",
    "\n",
    "# Adapter MultiLabelBinarizer et transformer les étiquettes\n",
    "y_train_sample_trans = mlb.fit_transform(y_train_sample)\n",
    "y_test_sample_trans = mlb.transform(y_test_sample) \n"
   ]
  },
  {
   "cell_type": "markdown",
   "metadata": {},
   "source": [
    "## Vectorisation avec TF_IDF.\n",
    "  Régréssion logistique:  \n",
    "\n",
    "  RandomForest:  "
   ]
  },
  {
   "cell_type": "code",
   "execution_count": 11,
   "metadata": {},
   "outputs": [],
   "source": [
    "X_train_sample_str = [' '.join(text) for text in X_train_sample]"
   ]
  },
  {
   "cell_type": "code",
   "execution_count": 12,
   "metadata": {},
   "outputs": [
    {
     "data": {
      "text/plain": [
       "'pipeline_tfidf_grid = create_tfidf_pipeline()\\nparam_grid_tfidf = {\\n    \\'tfidf__min_df\\': [1, 5, 10],\\n    \\'tfidf__max_df\\': [0.5, 0.75, 1.0],\\n    \\'tfidf__ngram_range\\': [(1, 1), (1, 2), (1, 3)],\\n    \\'tfidf__norm\\': [\\'l1\\', \\'l2\\'],\\n    \\'tfidf__use_idf\\': [True, False],\\n    \\n}\\n\\ngrid_search = GridSearchCV(\\n    pipeline_tfidf_grid, param_grid=param_grid_tfidf, \\n    cv=5,scoring=[\\'f1_weighted\\'] ,verbose=1, refit=\\'f1_weighted\\')\\n\\n# Convertir la matrice CSR en une liste de listes de mots\\n#X_train_sample_trans_list = [row.nonzero()[1].tolist() for row in X_train_sample]\\n\\n# Entraîner le modèle Word2Vec\\ngrid_search.fit(X_train_sample_str, y_train_sample_trans)\\n\\n#grid_search.fit(X_train_sample_trans, y_train_sample_trans)\\n\\nprint(\"Meilleurs hyperparamètres : \", grid_search.best_params_)'"
      ]
     },
     "execution_count": 12,
     "metadata": {},
     "output_type": "execute_result"
    }
   ],
   "source": [
    "from sklearn.model_selection import GridSearchCV\n",
    "\n",
    "\n",
    "'''pipeline_tfidf_grid = create_tfidf_pipeline()\n",
    "param_grid_tfidf = {\n",
    "    'tfidf__min_df': [1, 5, 10],\n",
    "    'tfidf__max_df': [0.5, 0.75, 1.0],\n",
    "    'tfidf__ngram_range': [(1, 1), (1, 2), (1, 3)],\n",
    "    'tfidf__norm': ['l1', 'l2'],\n",
    "    'tfidf__use_idf': [True, False],\n",
    "    \n",
    "}\n",
    "\n",
    "grid_search = GridSearchCV(\n",
    "    pipeline_tfidf_grid, param_grid=param_grid_tfidf, \n",
    "    cv=5,scoring=['f1_weighted'] ,verbose=1, refit='f1_weighted')\n",
    "\n",
    "# Convertir la matrice CSR en une liste de listes de mots\n",
    "#X_train_sample_trans_list = [row.nonzero()[1].tolist() for row in X_train_sample]\n",
    "\n",
    "# Entraîner le modèle Word2Vec\n",
    "grid_search.fit(X_train_sample_str, y_train_sample_trans)\n",
    "\n",
    "#grid_search.fit(X_train_sample_trans, y_train_sample_trans)\n",
    "\n",
    "print(\"Meilleurs hyperparamètres : \", grid_search.best_params_)'''"
   ]
  },
  {
   "cell_type": "code",
   "execution_count": 13,
   "metadata": {},
   "outputs": [],
   "source": [
    "pipeline_tfidf = create_tfidf_pipeline()\n",
    "\n",
    "# Convertir les listes en chaînes de caractères\n",
    "X_train_sample_str = [' '.join(text) for text in X_train_sample]\n",
    "X_test_sample_str = [' '.join(text) for text in X_test_sample]\n",
    "\n",
    "# Utiliser les chaînes de caractères pour l'ajustement et la transformation\n",
    "X_train_sample_trans = pipeline_tfidf[\"tfidf\"].fit_transform(X_train_sample_str)\n",
    "X_test_sample_trans = pipeline_tfidf[\"tfidf\"].transform(X_test_sample_str)\n"
   ]
  },
  {
   "cell_type": "code",
   "execution_count": 14,
   "metadata": {},
   "outputs": [
    {
     "name": "stdout",
     "output_type": "stream",
     "text": [
      "(8000, 986) (100, 986)\n",
      "(100, 5798) (8000, 5798)\n"
     ]
    }
   ],
   "source": [
    "print(X_train_sample_trans.shape, X_test_sample_trans.shape)\n",
    "print(y_test_sample_trans.shape, y_train_sample_trans.shape)"
   ]
  },
  {
   "cell_type": "code",
   "execution_count": 15,
   "metadata": {},
   "outputs": [
    {
     "data": {
      "text/plain": [
       "'print(y_test_sample_trans[:100])\\nprint(y_train_sample_trans)\\nprint(X_train_sample_trans)\\nprint(X_train_sample_trans)'"
      ]
     },
     "execution_count": 15,
     "metadata": {},
     "output_type": "execute_result"
    }
   ],
   "source": [
    "'''print(y_test_sample_trans[:100])\n",
    "print(y_train_sample_trans)\n",
    "print(X_train_sample_trans)\n",
    "print(X_train_sample_trans)'''"
   ]
  },
  {
   "cell_type": "markdown",
   "metadata": {},
   "source": [
    "### Regression logistique OneVsRestClassifier"
   ]
  },
  {
   "cell_type": "code",
   "execution_count": 16,
   "metadata": {},
   "outputs": [
    {
     "name": "stdout",
     "output_type": "stream",
     "text": [
      "shape de prediction (100, 5798)\n",
      "shape de prediction (100, 986)\n"
     ]
    }
   ],
   "source": [
    "lr_tfidf = pipeline_tfidf.named_steps['clf'].fit(X_train_sample_trans, y_train_sample_trans)\n",
    "\n",
    "predictions = lr_tfidf.predict_proba(X_test_sample_trans)\n",
    "print(\"shape de prediction\",predictions.shape)\n",
    "print(\"shape de prediction\",X_test_sample_trans.shape)\n"
   ]
  },
  {
   "cell_type": "code",
   "execution_count": 17,
   "metadata": {},
   "outputs": [],
   "source": [
    "probabilities = predictions\n",
    "\n",
    "# Définir un seuil personnalisé pour sélectionner les tags\n",
    "threshold = 0.15  # baisser le seuil pour inclure plus de tags\n",
    "\n",
    "def select_top_n_tags(probabilities, threshold, top_n=5):\n",
    "    # Créer une matrice de zéros de la même forme que probabilities\n",
    "    final_tags = np.zeros(probabilities.shape)\n",
    "    \n",
    "    for i in range(probabilities.shape[0]):\n",
    "        # Trouver les indices qui satisfont le seuil\n",
    "        eligible_indices = np.where(probabilities[i] >= threshold)[0]\n",
    "        \n",
    "        # Trier ces indices en fonction de leur probabilité\n",
    "        top_indices = eligible_indices[np.argsort(probabilities[i][eligible_indices])][::-1]\n",
    "        \n",
    "        # Sélectionner les top N indices\n",
    "        top_n_indices = top_indices[:top_n]\n",
    "        \n",
    "        # Mettre à 1 les positions correspondant aux tags sélectionnés\n",
    "        final_tags[i, top_n_indices] = 1\n",
    "    \n",
    "    return final_tags\n",
    "\n",
    "# Utiliser la fonction pour obtenir les tags prédits\n",
    "\n",
    "binary_predictions = select_top_n_tags(probabilities, threshold, top_n=7)"
   ]
  },
  {
   "cell_type": "markdown",
   "metadata": {},
   "source": [
    "Hamming Loss : C'est la fraction des labels mal prédits par rapport à l'ensemble total de labels. C'est une métrique appropriée pour la classification multilabels car elle prend en compte chaque label individuellement.\n",
    "\n",
    "Jaccard Score : C'est la taille de l'intersection des labels prédits et des vrais labels divisée par la taille de l'union des labels prédits et des vrais labels. C'est une bonne métrique pour la classification multilabels car elle prend en compte la présence et l'absence de chaque label.\n",
    "\n",
    "Precision, Recall, F1 Score : Ces métriques peuvent également être utilisées dans le contexte multilabels, en calculant la métrique pour chaque label individuellement, puis en prenant la moyenne."
   ]
  },
  {
   "cell_type": "code",
   "execution_count": 18,
   "metadata": {},
   "outputs": [
    {
     "name": "stdout",
     "output_type": "stream",
     "text": [
      "Shape of true values: (100, 5798)\n",
      "Shape of predictions: (100, 5798)\n"
     ]
    }
   ],
   "source": [
    "print(\"Shape of true values:\", y_test_sample_trans.shape)\n",
    "print(\"Shape of predictions:\", binary_predictions.shape)"
   ]
  },
  {
   "cell_type": "code",
   "execution_count": 19,
   "metadata": {},
   "outputs": [
    {
     "name": "stdout",
     "output_type": "stream",
     "text": [
      "Precision: 0.66\n",
      "Recall: 0.3518333333333334\n",
      "F1 Score: 0.431487012987013\n"
     ]
    },
    {
     "name": "stderr",
     "output_type": "stream",
     "text": [
      "/Users/bahia/opt/anaconda3/lib/python3.9/site-packages/sklearn/metrics/_classification.py:1469: UndefinedMetricWarning: Precision is ill-defined and being set to 0.0 in samples with no predicted labels. Use `zero_division` parameter to control this behavior.\n",
      "  _warn_prf(average, modifier, msg_start, len(result))\n"
     ]
    }
   ],
   "source": [
    "from sklearn.metrics import accuracy_score, precision_score, recall_score, f1_score, classification_report, hamming_loss, jaccard_score\n",
    "\n",
    "\n",
    "print(\"Precision:\", precision_score(y_test_sample_trans, binary_predictions, average='samples'))\n",
    "print(\"Recall:\", recall_score(y_test_sample_trans, binary_predictions, average='samples'))\n",
    "print(\"F1 Score:\", f1_score(y_test_sample_trans, binary_predictions, average='samples'))\n",
    "\n"
   ]
  },
  {
   "cell_type": "code",
   "execution_count": 20,
   "metadata": {},
   "outputs": [
    {
     "name": "stdout",
     "output_type": "stream",
     "text": [
      "Jaccard Score: 0.30469047619047623\n"
     ]
    }
   ],
   "source": [
    "\n",
    "print(\"Jaccard Score:\", jaccard_score(y_test_sample_trans, binary_predictions, average='samples'))\n"
   ]
  },
  {
   "cell_type": "code",
   "execution_count": 21,
   "metadata": {},
   "outputs": [
    {
     "name": "stdout",
     "output_type": "stream",
     "text": [
      "10229    [javascript, jquery, inheritance, prototypal-i...\n",
      "4932     [javascript, asp.net-mvc, json, asp.net-mvc-4,...\n",
      "6712     [python, django, google-app-engine, web-applic...\n",
      "29503      [javascript, html, angularjs, validation, grid]\n",
      "3643     [android, android-widget, android-5.0-lollipop...\n",
      "Name: Tags, dtype: object\n",
      "('c#', 'javascript')\n",
      "('asp.net', 'asp.net-mvc', 'c#', 'javascript')\n",
      "('android', 'django', 'google-app-engine', 'python')\n",
      "('html', 'javascript')\n",
      "('android',)\n",
      "('javascript',)\n",
      "('ios', 'objective-c')\n",
      "('c#',)\n",
      "('python',)\n",
      "('sql', 'sql-server', 'sql-server-2008', 't-sql')\n",
      "('android', 'android-gradle-plugin', 'gradle')\n",
      "('python',)\n",
      "('ios', 'javascript', 'react-native', 'xcode')\n",
      "('android', 'python')\n",
      "('android', 'c#', 'java', 'python')\n",
      "('c#', 'java')\n",
      "('java',)\n",
      "('c++', 'switch-statement')\n",
      "('javascript',)\n",
      "('ios',)\n",
      "('html', 'javascript')\n",
      "('arrays', 'python', 'string')\n",
      "('c#', 'java')\n",
      "('javascript', 'python')\n",
      "('datetime', 'ios', 'iphone', 'objective-c', 'python')\n",
      "('c#', 'c++', 'visual-studio')\n",
      "('c#',)\n",
      "('java', 'spring', 'spring-boot')\n",
      "('android', 'android-studio', 'java')\n",
      "('c#',)\n",
      "('c++', 'java')\n",
      "('android', 'android-layout')\n",
      "('c#', 'c++')\n",
      "('php',)\n",
      "('c#', 'java')\n",
      "('android',)\n",
      "('android', 'firebase', 'javascript')\n",
      "('css', 'html', 'javascript', 'jquery', 'twitter-bootstrap', 'twitter-bootstrap-3')\n",
      "('javascript', 'python')\n",
      "('python', 'string')\n",
      "('ios', 'objective-c')\n",
      "()\n",
      "('ios', 'objective-c')\n",
      "('javascript',)\n",
      "('c++',)\n",
      "('c#', 'c++')\n",
      "('python',)\n",
      "('c#',)\n",
      "('ios', 'iphone', 'objective-c', 'xcode')\n",
      "('html',)\n",
      "('android', 'java', 'unit-testing')\n",
      "('c#',)\n",
      "('android', 'java')\n",
      "('cocoa-touch', 'ios', 'iphone', 'objective-c')\n",
      "('c#',)\n",
      "('html', 'javascript')\n",
      "('asp.net', 'c#', 'sql', 'sql-server')\n",
      "('html', 'javascript', 'jquery')\n",
      "('c#',)\n",
      "('c#', 'javascript', 'node.js')\n",
      "('android',)\n",
      "('css', 'html', 'javascript', 'jquery', 'php')\n",
      "('ios', 'javascript', 'jquery')\n",
      "('java',)\n",
      "('java', 'objective-c')\n",
      "('android', 'java', 'sql')\n",
      "('javascript',)\n",
      "('html', 'java', 'python', 'string')\n",
      "('javascript',)\n",
      "('java',)\n",
      "('python', 'python-3.x', 'selenium')\n",
      "('android', 'java')\n",
      "('android', 'android-emulator', 'java')\n",
      "('android', 'android-emulator')\n",
      "('javascript', 'node.js')\n",
      "('c#', 'c++', 'java')\n",
      "('android', 'android-recyclerview')\n",
      "('java', 'spring')\n",
      "('android', 'android-gradle-plugin', 'android-studio', 'gradle')\n",
      "('android',)\n",
      "('java',)\n",
      "('arrays', 'javascript', 'multidimensional-array', 'objective-c')\n",
      "('asp.net', 'asp.net-mvc', 'c#', 'sql-server')\n",
      "('c#', 'java')\n",
      "('c#', 'java')\n",
      "('javascript', 'jquery')\n",
      "('c#', 'c++')\n",
      "('c#', 'sql-server')\n",
      "('android', 'asp.net', 'c#', 'javascript')\n",
      "('c++', 'java', 'python')\n",
      "('android',)\n",
      "('ios', 'iphone', 'objective-c')\n",
      "('javascript', 'jquery')\n",
      "('arrays', 'javascript', 'multidimensional-array', 'sorting')\n",
      "('arrays', 'javascript')\n",
      "('c#', 'javascript')\n",
      "('c#',)\n",
      "('c++', 'java')\n",
      "('sql', 'sql-server', 'sql-server-2008')\n",
      "('html', 'javascript', 'jquery')\n"
     ]
    }
   ],
   "source": [
    "\n",
    "predictions_labels =mlb.inverse_transform(binary_predictions)\n",
    "print(y_test_sample[:5])\n",
    "# Afficher les labels des prédictions\n",
    "for labels in predictions_labels:\n",
    "    print(labels)"
   ]
  },
  {
   "cell_type": "code",
   "execution_count": 22,
   "metadata": {},
   "outputs": [
    {
     "name": "stdout",
     "output_type": "stream",
     "text": [
      "Taux de remplissage des tags : 0.04%\n"
     ]
    }
   ],
   "source": [
    "# Calculer le nombre total de tags prédits\n",
    "total_predicted_tags = binary_predictions.sum()\n",
    "\n",
    "# Calculer le nombre total de tags possibles\n",
    "total_possible_tags = y_test_sample_trans.size\n",
    "\n",
    "# Calculer le taux de remplissage\n",
    "fill_rate = total_predicted_tags / total_possible_tags\n",
    "\n",
    "print(f'Taux de remplissage des tags : {fill_rate * 100:.2f}%')"
   ]
  },
  {
   "cell_type": "code",
   "execution_count": 23,
   "metadata": {},
   "outputs": [
    {
     "name": "stderr",
     "output_type": "stream",
     "text": [
      "/Users/bahia/opt/anaconda3/lib/python3.9/site-packages/sklearn/metrics/_classification.py:1469: UndefinedMetricWarning: Precision is ill-defined and being set to 0.0 in samples with no predicted labels. Use `zero_division` parameter to control this behavior.\n",
      "  _warn_prf(average, modifier, msg_start, len(result))\n"
     ]
    },
    {
     "data": {
      "text/html": [
       "<div>\n",
       "<style scoped>\n",
       "    .dataframe tbody tr th:only-of-type {\n",
       "        vertical-align: middle;\n",
       "    }\n",
       "\n",
       "    .dataframe tbody tr th {\n",
       "        vertical-align: top;\n",
       "    }\n",
       "\n",
       "    .dataframe thead th {\n",
       "        text-align: right;\n",
       "    }\n",
       "</style>\n",
       "<table border=\"1\" class=\"dataframe\">\n",
       "  <thead>\n",
       "    <tr style=\"text-align: right;\">\n",
       "      <th></th>\n",
       "      <th>Vectorizer</th>\n",
       "      <th>precision Test</th>\n",
       "      <th>Jaccard Test</th>\n",
       "      <th>Fit Time</th>\n",
       "    </tr>\n",
       "  </thead>\n",
       "  <tbody>\n",
       "    <tr>\n",
       "      <th>0</th>\n",
       "      <td>lr_Tfidf</td>\n",
       "      <td>0.66</td>\n",
       "      <td>0.30469</td>\n",
       "      <td>None</td>\n",
       "    </tr>\n",
       "  </tbody>\n",
       "</table>\n",
       "</div>"
      ],
      "text/plain": [
       "  Vectorizer  precision Test  Jaccard Test Fit Time\n",
       "0   lr_Tfidf            0.66       0.30469     None"
      ]
     },
     "metadata": {},
     "output_type": "display_data"
    }
   ],
   "source": [
    "result_lr_tfidf = stocker_results(name=\"lr_Tfidf\", \n",
    "                                 precision_test=precision_score(y_test_sample_trans, binary_predictions, average='samples'),\n",
    "                                 jaccard_test=jaccard_score(y_test_sample_trans, binary_predictions, average='samples'))"
   ]
  },
  {
   "cell_type": "code",
   "execution_count": 24,
   "metadata": {},
   "outputs": [
    {
     "data": {
      "text/plain": [
       "\"import joblib\\n\\n# Sauvegarde du modèle entraîné dans un fichier .pkl\\nmodel_path = 'final_model.pkl'\\njoblib.dump(lr_tfidf, model_path)\""
      ]
     },
     "execution_count": 24,
     "metadata": {},
     "output_type": "execute_result"
    }
   ],
   "source": [
    "'''import joblib\n",
    "\n",
    "# Sauvegarde du modèle entraîné dans un fichier .pkl\n",
    "model_path = 'final_model.pkl'\n",
    "joblib.dump(lr_tfidf, model_path)'''"
   ]
  },
  {
   "cell_type": "markdown",
   "metadata": {},
   "source": [
    "### Random Forest"
   ]
  },
  {
   "cell_type": "code",
   "execution_count": 25,
   "metadata": {},
   "outputs": [],
   "source": [
    "#rf_tfidf = pipeline_tfidf.named_steps['RandomForest'].fit(X_train_sample_trans, y_train_sample_trans)"
   ]
  },
  {
   "cell_type": "code",
   "execution_count": 26,
   "metadata": {},
   "outputs": [],
   "source": [
    "#predictions = rf_tfidf.predict(X_test_sample_trans)"
   ]
  },
  {
   "cell_type": "code",
   "execution_count": 27,
   "metadata": {},
   "outputs": [
    {
     "data": {
      "text/plain": [
       "'probabilities = predictions\\n# Définir un seuil personnalisé pour sélectionner les tags\\nthreshold = 0.2  # baisser le seuil pour inclure plus de tags\\n\\n# Utiliser la fonction pour obtenir les tags prédits\\nrf_binary_predictions = select_top_n_tags(probabilities, threshold, top_n=5)'"
      ]
     },
     "execution_count": 27,
     "metadata": {},
     "output_type": "execute_result"
    }
   ],
   "source": [
    "'''probabilities = predictions\n",
    "# Définir un seuil personnalisé pour sélectionner les tags\n",
    "threshold = 0.2  # baisser le seuil pour inclure plus de tags\n",
    "\n",
    "# Utiliser la fonction pour obtenir les tags prédits\n",
    "rf_binary_predictions = select_top_n_tags(probabilities, threshold, top_n=5)'''"
   ]
  },
  {
   "cell_type": "code",
   "execution_count": 28,
   "metadata": {},
   "outputs": [
    {
     "data": {
      "text/plain": [
       "'print(\"Precision:\", precision_score(y_test_sample_trans, rf_binary_predictions, average=\\'samples\\'))\\nprint(\"Recall:\", recall_score(y_test_sample_trans, rf_binary_predictions, average=\\'samples\\'))\\nprint(\"F1 Score:\", f1_score(y_test_sample_trans, rf_binary_predictions, average=\\'samples\\'))\\nrf_predictions_labels =mlb.inverse_transform(rf_binary_predictions)\\nprint(y_test_sample[:5])\\n# Afficher les labels des prédictions\\nfor labels in rf_predictions_labels:\\n    print(labels)\\n'"
      ]
     },
     "execution_count": 28,
     "metadata": {},
     "output_type": "execute_result"
    }
   ],
   "source": [
    "'''print(\"Precision:\", precision_score(y_test_sample_trans, rf_binary_predictions, average='samples'))\n",
    "print(\"Recall:\", recall_score(y_test_sample_trans, rf_binary_predictions, average='samples'))\n",
    "print(\"F1 Score:\", f1_score(y_test_sample_trans, rf_binary_predictions, average='samples'))\n",
    "rf_predictions_labels =mlb.inverse_transform(rf_binary_predictions)\n",
    "print(y_test_sample[:5])\n",
    "# Afficher les labels des prédictions\n",
    "for labels in rf_predictions_labels:\n",
    "    print(labels)\n",
    "'''"
   ]
  },
  {
   "cell_type": "code",
   "execution_count": 29,
   "metadata": {},
   "outputs": [],
   "source": [
    "#result_rf_tfidf = stocker_results(name=\"rf_Tfidf\",precision_test=precision_score(y_test_sample_trans, rf_binary_predictions,average='samples'),\n",
    "#                                 jaccard_test=jaccard_score(y_test_sample_trans, rf_binary_predictions, average='samples'))"
   ]
  },
  {
   "cell_type": "code",
   "execution_count": 30,
   "metadata": {},
   "outputs": [
    {
     "data": {
      "text/plain": [
       "\"# Assurez-vous que vos DataFrames sont concaténés en un seul DataFrame\\nresults = pd.concat([result_lr_tfidf, result_rf_tfidf])\\n\\nfig, axs = plt.subplots(1, 2, figsize=(15, 6))  # 1 ligne, 2 colonnes\\n\\n# Sous-graphique pour la précision\\naxs[0].bar(results['Vectorizer'], results['precision Test'], width=0.4)\\naxs[0].set_title('Comparaison de la précision')\\naxs[0].set_xlabel('Modèle')\\naxs[0].set_ylabel('Précision')\\n\\n# Sous-graphique pour le score Jaccard\\naxs[1].bar(results['Vectorizer'], results['Jaccard Test'], width=0.4)\\naxs[1].set_title('Comparaison du score Jaccard')\\naxs[1].set_xlabel('Modèle')\\naxs[1].set_ylabel('Score Jaccard')\\n\\nplt.tight_layout()\\nplt.show()\""
      ]
     },
     "execution_count": 30,
     "metadata": {},
     "output_type": "execute_result"
    }
   ],
   "source": [
    "import matplotlib.pyplot as plt\n",
    "\n",
    "'''# Assurez-vous que vos DataFrames sont concaténés en un seul DataFrame\n",
    "results = pd.concat([result_lr_tfidf, result_rf_tfidf])\n",
    "\n",
    "fig, axs = plt.subplots(1, 2, figsize=(15, 6))  # 1 ligne, 2 colonnes\n",
    "\n",
    "# Sous-graphique pour la précision\n",
    "axs[0].bar(results['Vectorizer'], results['precision Test'], width=0.4)\n",
    "axs[0].set_title('Comparaison de la précision')\n",
    "axs[0].set_xlabel('Modèle')\n",
    "axs[0].set_ylabel('Précision')\n",
    "\n",
    "# Sous-graphique pour le score Jaccard\n",
    "axs[1].bar(results['Vectorizer'], results['Jaccard Test'], width=0.4)\n",
    "axs[1].set_title('Comparaison du score Jaccard')\n",
    "axs[1].set_xlabel('Modèle')\n",
    "axs[1].set_ylabel('Score Jaccard')\n",
    "\n",
    "plt.tight_layout()\n",
    "plt.show()'''"
   ]
  },
  {
   "cell_type": "markdown",
   "metadata": {},
   "source": [
    "## Embedding avec word2Vec"
   ]
  },
  {
   "cell_type": "code",
   "execution_count": 31,
   "metadata": {},
   "outputs": [
    {
     "data": {
      "text/plain": [
       "'pipeline_w2v_grid = create_word2vec_pipeline()\\n\\n# Définir la grille des hyperparamètres à rechercher\\nparam_grid_w2v = {\\n    \\'word2vec__vector_size\\': [100, 200, 300, 400],\\n    \\'word2vec__window\\': [5, 10, 15],\\n    \\'word2vec__min_count\\': [1, 2, 5],\\n    \\'word2vec__alpha\\': [0.01, 0.025, 0.05],\\n    \\'word2vec__epochs\\': [5, 10, 20],\\n    \\'word2vec__workers\\': [3, 5, 8],\\n    \\'word2vec__sg\\': [0, 1],\\n    \\'word2vec__max_vocab_size\\': [None, 10000, 20000]\\n}\\n\\ngrid_search = GridSearchCV(\\n    pipeline_w2v_grid, param_grid=param_grid_w2v, \\n    cv=5,scoring=[\\'f1_micro\\',\\'precision_micro\\'], refit=\\'f1_micro\\')\\n\\n# Convertir la matrice CSR en une liste de listes de mots\\nX_train_sample_trans_list = [row.nonzero()[1].tolist() for row in X_train_sample_trans]\\n\\n# Entraîner le modèle Word2Vec\\ngrid_search.fit(X_train_sample_trans_list, y_train_sample_trans)\\n\\n#grid_search.fit(X_train_sample_trans, y_train_sample_trans)\\n\\nprint(\"Meilleurs hyperparamètres : \", grid_search.best_params_)'"
      ]
     },
     "execution_count": 31,
     "metadata": {},
     "output_type": "execute_result"
    }
   ],
   "source": [
    "# Instancier le modèle avec le préprocesseur dans le pipeline\n",
    "from sklearn.model_selection import GridSearchCV\n",
    "\n",
    "\n",
    "'''pipeline_w2v_grid = create_word2vec_pipeline()\n",
    "\n",
    "# Définir la grille des hyperparamètres à rechercher\n",
    "param_grid_w2v = {\n",
    "    'word2vec__vector_size': [100, 200, 300, 400],\n",
    "    'word2vec__window': [5, 10, 15],\n",
    "    'word2vec__min_count': [1, 2, 5],\n",
    "    'word2vec__alpha': [0.01, 0.025, 0.05],\n",
    "    'word2vec__epochs': [5, 10, 20],\n",
    "    'word2vec__workers': [3, 5, 8],\n",
    "    'word2vec__sg': [0, 1],\n",
    "    'word2vec__max_vocab_size': [None, 10000, 20000]\n",
    "}\n",
    "\n",
    "grid_search = GridSearchCV(\n",
    "    pipeline_w2v_grid, param_grid=param_grid_w2v, \n",
    "    cv=5,scoring=['f1_micro','precision_micro'], refit='f1_micro')\n",
    "\n",
    "# Convertir la matrice CSR en une liste de listes de mots\n",
    "X_train_sample_trans_list = [row.nonzero()[1].tolist() for row in X_train_sample_trans]\n",
    "\n",
    "# Entraîner le modèle Word2Vec\n",
    "grid_search.fit(X_train_sample_trans_list, y_train_sample_trans)\n",
    "\n",
    "#grid_search.fit(X_train_sample_trans, y_train_sample_trans)\n",
    "\n",
    "print(\"Meilleurs hyperparamètres : \", grid_search.best_params_)'''"
   ]
  },
  {
   "cell_type": "code",
   "execution_count": 32,
   "metadata": {},
   "outputs": [],
   "source": [
    "pipeline_w2v = create_word2vec_pipeline()\n",
    "# Convertir les listes en chaînes de caractères\n",
    "X_train_sample_str = [' '.join(text) for text in X_train_sample]\n",
    "X_test_sample_str = [' '.join(text) for text in X_test_sample]\n",
    "\n",
    "# Utiliser les chaînes de caractères pour l'ajustement et la transformation\n",
    "X_train_sample_trans_w2v = pipeline_w2v['word2vec'].fit_transform(X_train_sample_str)\n",
    "X_test_sample_trans_w2v = pipeline_w2v['word2vec'].transform(X_test_sample_str)\n",
    "\n",
    "mlb2 = MultiLabelBinarizer()\n",
    "y_train_sample_trans = mlb2.fit_transform(y_train_sample)"
   ]
  },
  {
   "cell_type": "code",
   "execution_count": 33,
   "metadata": {},
   "outputs": [
    {
     "name": "stdout",
     "output_type": "stream",
     "text": [
      "(8000, 400)\n",
      "(100, 400)\n"
     ]
    }
   ],
   "source": [
    "print(X_train_sample_trans_w2v.shape)\n",
    "print(X_test_sample_trans_w2v.shape)"
   ]
  },
  {
   "cell_type": "code",
   "execution_count": 34,
   "metadata": {},
   "outputs": [],
   "source": [
    "lr_w2v = pipeline_w2v.named_steps['clf_w2v'].fit(X_train_sample_trans_w2v, y_train_sample_trans)\n",
    "print(lr_w2v)\n",
    "predictions_w2v = lr_w2v.predict_proba(X_test_sample_trans_w2v)\n",
    "print(\"shape de prediction\",predictions_w2v.shape)\n",
    "print(\"shape de X_test_sample_trans\",X_test_sample_trans_w2v.shape)\n",
    "\n"
   ]
  },
  {
   "cell_type": "code",
   "execution_count": null,
   "metadata": {},
   "outputs": [
    {
     "data": {
      "text/html": [
       "<div>\n",
       "<style scoped>\n",
       "    .dataframe tbody tr th:only-of-type {\n",
       "        vertical-align: middle;\n",
       "    }\n",
       "\n",
       "    .dataframe tbody tr th {\n",
       "        vertical-align: top;\n",
       "    }\n",
       "\n",
       "    .dataframe thead th {\n",
       "        text-align: right;\n",
       "    }\n",
       "</style>\n",
       "<table border=\"1\" class=\"dataframe\">\n",
       "  <thead>\n",
       "    <tr style=\"text-align: right;\">\n",
       "      <th></th>\n",
       "      <th>Vectorizer</th>\n",
       "      <th>precision Test</th>\n",
       "      <th>Jaccard Test</th>\n",
       "      <th>Fit Time</th>\n",
       "    </tr>\n",
       "  </thead>\n",
       "  <tbody>\n",
       "    <tr>\n",
       "      <th>0</th>\n",
       "      <td>lr_w2v</td>\n",
       "      <td>0.175</td>\n",
       "      <td>0.069333</td>\n",
       "      <td>None</td>\n",
       "    </tr>\n",
       "  </tbody>\n",
       "</table>\n",
       "</div>"
      ],
      "text/plain": [
       "  Vectorizer  precision Test  Jaccard Test Fit Time\n",
       "0     lr_w2v           0.175      0.069333     None"
      ]
     },
     "metadata": {},
     "output_type": "display_data"
    }
   ],
   "source": [
    "probabilities = predictions_w2v\n",
    "# Définir un seuil personnalisé pour sélectionner les tags\n",
    "threshold = 0.15  # baisser le seuil pour inclure plus de tags\n",
    "\n",
    "# Utiliser la fonction pour obtenir les tags prédits\n",
    "rf_w2v_binary_predictions = select_top_n_tags(probabilities, threshold, top_n=5)\n",
    "result_lr_w2f = stocker_results(name=\"lr_w2v\",precision_test=precision_score(y_test_sample_trans, rf_w2v_binary_predictions,average='samples'),\n",
    "                                 jaccard_test=jaccard_score(y_test_sample_trans, rf_w2v_binary_predictions, average='samples'))"
   ]
  },
  {
   "cell_type": "code",
   "execution_count": null,
   "metadata": {},
   "outputs": [
    {
     "name": "stdout",
     "output_type": "stream",
     "text": [
      "Precision: 0.175\n",
      "Recall: 0.08716666666666667\n",
      "F1 Score: 0.11533333333333333\n"
     ]
    }
   ],
   "source": [
    "print(\"Precision:\", precision_score(y_test_sample_trans, rf_w2v_binary_predictions, average='samples'))\n",
    "print(\"Recall:\", recall_score(y_test_sample_trans, rf_w2v_binary_predictions, average='samples'))\n",
    "print(\"F1 Score:\", f1_score(y_test_sample_trans, rf_w2v_binary_predictions, average='samples'))"
   ]
  },
  {
   "cell_type": "code",
   "execution_count": null,
   "metadata": {},
   "outputs": [
    {
     "name": "stdout",
     "output_type": "stream",
     "text": [
      "[('android', 'javascript'), ('android', 'javascript'), ('android', 'javascript'), ('android', 'javascript'), ('android', 'javascript'), ('android', 'javascript'), ('android', 'javascript'), ('android', 'javascript'), ('android', 'javascript'), ('android', 'javascript'), ('android', 'javascript'), ('android', 'javascript'), ('android', 'javascript'), ('android', 'javascript'), ('android', 'javascript'), ('android', 'javascript'), ('android', 'javascript'), ('android', 'javascript'), ('android', 'javascript'), ('android', 'javascript'), ('android', 'javascript'), ('android', 'javascript'), ('android', 'javascript'), ('android', 'javascript'), ('android', 'javascript'), ('android', 'javascript'), ('android', 'javascript'), ('android', 'javascript'), ('android', 'javascript'), ('android', 'javascript'), ('android', 'javascript'), ('android', 'javascript'), ('android', 'javascript'), ('android', 'javascript'), ('android', 'javascript'), ('android', 'javascript'), ('android', 'javascript'), ('android', 'javascript'), ('android', 'javascript'), ('android', 'javascript'), ('android', 'javascript'), ('android', 'javascript'), ('android', 'javascript'), ('android', 'javascript'), ('android', 'javascript'), ('android', 'javascript'), ('android', 'javascript'), ('android', 'javascript'), ('android', 'javascript'), ('android', 'javascript'), ('android', 'javascript'), ('android', 'javascript'), ('android', 'javascript'), ('android', 'javascript'), ('android', 'javascript'), ('android', 'javascript'), ('android', 'javascript'), ('android', 'javascript'), ('android', 'javascript'), ('android', 'javascript'), ('android', 'javascript'), ('android', 'javascript'), ('android', 'javascript'), ('android', 'javascript'), ('android', 'javascript'), ('android', 'javascript'), ('android', 'javascript'), ('android', 'javascript'), ('android', 'javascript'), ('android', 'javascript'), ('android', 'javascript'), ('android', 'javascript'), ('android', 'javascript'), ('android', 'javascript'), ('android', 'javascript'), ('android', 'javascript'), ('android', 'javascript'), ('android', 'javascript'), ('android', 'javascript'), ('android', 'javascript'), ('android', 'javascript'), ('android', 'javascript'), ('android', 'javascript'), ('android', 'javascript'), ('android', 'javascript'), ('android', 'javascript'), ('android', 'javascript'), ('android', 'javascript'), ('android', 'javascript'), ('android', 'javascript'), ('android', 'javascript'), ('android', 'javascript'), ('android', 'javascript'), ('android', 'javascript'), ('android', 'javascript'), ('android', 'javascript'), ('android', 'javascript'), ('android', 'javascript'), ('android', 'javascript'), ('android', 'javascript')]\n",
      "10229    [javascript, jquery, inheritance, prototypal-i...\n",
      "4932     [javascript, asp.net-mvc, json, asp.net-mvc-4,...\n",
      "6712     [python, django, google-app-engine, web-applic...\n",
      "29503      [javascript, html, angularjs, validation, grid]\n",
      "3643     [android, android-widget, android-5.0-lollipop...\n",
      "Name: Tags, dtype: object\n"
     ]
    }
   ],
   "source": [
    "# Afficher les labels des prédictions\n",
    "predictions_labels =mlb.inverse_transform(rf_w2v_binary_predictions)\n",
    "print(predictions_labels)\n",
    "print(y_test_sample[:5])\n"
   ]
  },
  {
   "cell_type": "markdown",
   "metadata": {},
   "source": [
    "### BERT Embedding\n",
    "\n",
    "\"Bidirectional Encoder Representations from Transformers\":  \n",
    "\n",
    "BERT est un modèle de langage bidirectionnel basé sur des transformers, capable de capturer les relations complexes entre les mots en utilisant le contexte gauche-droite et droite-gauche pour générer des embeddings riches en informations pour chaque mot."
   ]
  },
  {
   "cell_type": "code",
   "execution_count": null,
   "metadata": {},
   "outputs": [
    {
     "ename": "",
     "evalue": "",
     "output_type": "error",
     "traceback": [
      "\u001b[1;31mLe noyau s’est bloqué lors de l’exécution du code dans une cellule active ou une cellule précédente. \n",
      "\u001b[1;31mVeuillez vérifier le code dans la ou les cellules pour identifier une cause possible de l’échec. \n",
      "\u001b[1;31mCliquez <a href='https://aka.ms/vscodeJupyterKernelCrash'>ici</a> pour plus d’informations. \n",
      "\u001b[1;31mPour plus d’informations, consultez Jupyter <a href='command:jupyter.viewOutput'>log</a>."
     ]
    }
   ],
   "source": [
    "pipeline_bert = create_bert_pipeline()\n",
    "# Convertir les listes en chaînes de caractères\n",
    "X_train_sample_str = [' '.join(text) for text in X_train_sample]\n",
    "X_test_sample_str = [' '.join(text) for text in X_test_sample]\n",
    "\n",
    "# Utiliser les chaînes de caractères pour l'ajustement et la transformation\n",
    "X_train_sample_trans_bert = pipeline_bert['bert_vectorizer'].fit_transform(X_train_sample_str)\n",
    "X_test_sample_trans_bert = pipeline_bert['bert_vectorizer'].transform(X_test_sample_str)\n",
    " \n",
    "mlb3 = MultiLabelBinarizer()\n",
    "y_train_sample_trans = mlb3.fit_transform(y_train_sample)"
   ]
  },
  {
   "cell_type": "code",
   "execution_count": null,
   "metadata": {},
   "outputs": [
    {
     "data": {
      "application/vnd.jupyter.widget-view+json": {
       "model_id": "576df74c079f4de78f2f9ac01f1b3126",
       "version_major": 2,
       "version_minor": 0
      },
      "text/plain": [
       "tokenizer.json:   0%|          | 0.00/466k [00:00<?, ?B/s]"
      ]
     },
     "metadata": {},
     "output_type": "display_data"
    }
   ],
   "source": [
    "from sklearn.model_selection import GridSearchCV\n",
    "\n",
    "\n",
    "'''pipeline_bert_grid = create_bert_pipeline()\n",
    "\n",
    "\n",
    "param_grid_bert = {\n",
    "    'bert_vectorizer__max_length': [64, 128, 256],\n",
    "    'bert_vectorizer__model_name': ['all-MiniLM-L6-v2', 'all-mpnet-base-v2', 'all-distilroberta-v1'],\n",
    "    'clf_bert__estimator__C': [0.1, 1, 10],\n",
    "    'clf_bert__estimator__max_iter': [1000, 2000, 3000],\n",
    "\n",
    "\n",
    "}\n",
    "\n",
    "\n",
    "grid_search = GridSearchCV(\n",
    "    pipeline_bert_grid, param_grid=param_grid_bert, \n",
    "    cv=5,scoring=['f1_micro'], refit='f1_micro')\n",
    "\n",
    "# Convertir la matrice CSR en une liste de listes de mots\n",
    "X_train_sample_trans_list = [row.nonzero()[1].tolist() for row in X_train_sample_trans]\n",
    "\n",
    "# Entraîner le modèle Word2Vec\n",
    "grid_search.fit(X_train_sample_trans_list, y_train_sample_trans)\n",
    "\n",
    "#grid_search.fit(X_train_sample_trans, y_train_sample_trans)\n",
    "\n",
    "print(\"Meilleurs hyperparamètres : \", grid_search.best_params_)'''"
   ]
  },
  {
   "cell_type": "code",
   "execution_count": null,
   "metadata": {},
   "outputs": [],
   "source": [
    "pipeline_bert = create_bert_pipeline()\n",
    "# Convertir les listes en chaînes de caractères\n",
    "X_train_sample_str = [' '.join(text) for text in X_train_sample]\n",
    "X_test_sample_str = [' '.join(text) for text in X_test_sample]\n",
    "\n",
    "# Utiliser les chaînes de caractères pour l'ajustement et la transformation\n",
    "X_train_sample_trans_bert = pipeline_bert['bert_vectorizer'].fit_transform(X_train_sample_str)\n",
    "X_test_sample_trans_bert = pipeline_bert['bert_vectorizer'].transform(X_test_sample_str)\n",
    " \n",
    "mlb3 = MultiLabelBinarizer()\n",
    "y_train_sample_trans = mlb3.fit_transform(y_train_sample)"
   ]
  },
  {
   "cell_type": "code",
   "execution_count": null,
   "metadata": {},
   "outputs": [
    {
     "data": {
      "text/plain": [
       "'lr_bert = pipeline_bert.named_steps[\\'clf_bert\\'].fit(X_train_sample_trans_bert, y_train_sample_trans)\\nprint(lr_bert)\\npredictions_bert = lr_bert.predict_proba(X_test_sample_trans_bert)\\nprint(\"shape de prediction\",predictions_bert.shape)\\nprint(\"shape de X_test_sample_trans\",X_test_sample_trans_bert.shape)\\n\\nbinary_pred_bert =select_top_n_tags(probabilities, threshold, top_n=5)\\nprint(\"Precision:\", precision_score(y_test_sample_trans, binary_pred_bert, average=\\'samples\\'))\\nprint(\"Recall:\", recall_score(y_test_sample_trans, binary_pred_bert, average=\\'samples\\'))\\nprint(\"F1 Score:\", f1_score(y_test_sample_trans, binary_pred_bert, average=\\'samples\\'))'"
      ]
     },
     "execution_count": 789,
     "metadata": {},
     "output_type": "execute_result"
    }
   ],
   "source": [
    "lr_bert = pipeline_bert.named_steps['clf_bert'].fit(X_train_sample_trans_bert, y_train_sample_trans)\n",
    "print(lr_bert)\n",
    "predictions_bert = lr_bert.predict_proba(X_test_sample_trans_bert)\n",
    "print(\"shape de prediction\",predictions_bert.shape)\n",
    "print(\"shape de X_test_sample_trans\",X_test_sample_trans_bert.shape)\n",
    "\n",
    "binary_pred_bert =select_top_n_tags(probabilities, threshold, top_n=5)\n",
    "print(\"Precision:\", precision_score(y_test_sample_trans, binary_pred_bert, average='samples'))\n",
    "print(\"Recall:\", recall_score(y_test_sample_trans, binary_pred_bert, average='samples'))\n",
    "print(\"F1 Score:\", f1_score(y_test_sample_trans, binary_pred_bert, average='samples'))\n"
   ]
  },
  {
   "cell_type": "markdown",
   "metadata": {},
   "source": [
    "## USE embbedding"
   ]
  },
  {
   "cell_type": "code",
   "execution_count": null,
   "metadata": {},
   "outputs": [
    {
     "data": {
      "text/plain": [
       "\"pipeline_use = create_use_pipeline()\\n# Convertir les listes en chaînes de caractères\\nX_train_sample_str = [' '.join(text) for text in X_train_sample]\\nX_test_sample_str = [' '.join(text) for text in X_test_sample]\\n\\n# Utiliser les chaînes de caractères pour l'ajustement et la transformation\\nX_train_sample_trans_use = pipeline_use['use_vectorizer'].fit_transform(X_train_sample_str)\\nX_test_sample_trans_use = pipeline_use['use_vectorizer'].transform(X_test_sample_str)\\n \\nmlb3 = MultiLabelBinarizer()\\ny_train_sample_trans = mlb3.fit_transform(y_train_sample)\""
      ]
     },
     "execution_count": 790,
     "metadata": {},
     "output_type": "execute_result"
    }
   ],
   "source": [
    "'''pipeline_use = create_use_pipeline()\n",
    "# Convertir les listes en chaînes de caractères\n",
    "X_train_sample_str = [' '.join(text) for text in X_train_sample]\n",
    "X_test_sample_str = [' '.join(text) for text in X_test_sample]\n",
    "\n",
    "# Utiliser les chaînes de caractères pour l'ajustement et la transformation\n",
    "X_train_sample_trans_use = pipeline_use['use_vectorizer'].fit_transform(X_train_sample_str)\n",
    "X_test_sample_trans_use = pipeline_use['use_vectorizer'].transform(X_test_sample_str)\n",
    " \n",
    "mlb3 = MultiLabelBinarizer()\n",
    "y_train_sample_trans = mlb3.fit_transform(y_train_sample)'''"
   ]
  }
 ],
 "metadata": {
  "kernelspec": {
   "display_name": "Python 3",
   "language": "python",
   "name": "python3"
  },
  "language_info": {
   "codemirror_mode": {
    "name": "ipython",
    "version": 3
   },
   "file_extension": ".py",
   "mimetype": "text/x-python",
   "name": "python",
   "nbconvert_exporter": "python",
   "pygments_lexer": "ipython3",
   "version": "3.9.18"
  }
 },
 "nbformat": 4,
 "nbformat_minor": 2
}
